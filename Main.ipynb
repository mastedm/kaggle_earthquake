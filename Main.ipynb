{
 "cells": [
  {
   "cell_type": "markdown",
   "metadata": {},
   "source": [
    "https://www.youtube.com/watch?v=TffGdSsWKlA\n",
    "\n",
    "https://github.com/llSourcell/Kaggle_Earthquake_challenge/blob/master/Earthquake_Challenge.ipynb\n",
    "\n",
    "https://www.kaggle.com/latimerb/earthquake-prediction-getting-started"
   ]
  },
  {
   "cell_type": "markdown",
   "metadata": {},
   "source": [
    "# Step 1. Install & Import Dependencies"
   ]
  },
  {
   "cell_type": "code",
   "execution_count": null,
   "metadata": {
    "collapsed": true,
    "scrolled": true
   },
   "outputs": [],
   "source": [
    "# to access Kaggle datasets\n",
    "!pip install kaggle\n",
    "\n",
    "# Math operations\n",
    "!pip install numpy\n",
    "\n",
    "# Machine learning\n",
    "!pip install catboost"
   ]
  },
  {
   "cell_type": "code",
   "execution_count": 1,
   "metadata": {
    "collapsed": true
   },
   "outputs": [],
   "source": [
    "%matplotlib inline\n",
    "\n",
    "# data preprocessing\n",
    "import pandas as pd\n",
    "\n",
    "# math operations\n",
    "import numpy as np\n",
    "\n",
    "# machine learning\n",
    "from catboost import CatBoostRegressor, Pool\n",
    "\n",
    "# data scaling\n",
    "from sklearn.preprocessing import StandardScaler\n",
    "\n",
    "# hyperparameter optimization\n",
    "from sklearn.model_selection import GridSearchCV\n",
    "\n",
    "# support vector machine model\n",
    "from sklearn.svm import NuSVR, SVR\n",
    "\n",
    "# kernel ridge model\n",
    "from sklearn.kernel_ridge import KernelRidge\n",
    "\n",
    "# data visualization\n",
    "import matplotlib.pyplot as plt"
   ]
  },
  {
   "cell_type": "markdown",
   "metadata": {},
   "source": [
    "# Step 2. Import dataset from Kaggle"
   ]
  },
  {
   "cell_type": "code",
   "execution_count": null,
   "metadata": {
    "collapsed": true,
    "scrolled": true
   },
   "outputs": [],
   "source": [
    "!kaggle competitions list"
   ]
  },
  {
   "cell_type": "code",
   "execution_count": null,
   "metadata": {
    "collapsed": true
   },
   "outputs": [],
   "source": [
    "# download data\n",
    "!kaggle competitions download -c LANL-Earthquake-Prediction"
   ]
  },
  {
   "cell_type": "code",
   "execution_count": null,
   "metadata": {
    "collapsed": true
   },
   "outputs": [],
   "source": [
    "!unzip train.csv.zip"
   ]
  },
  {
   "cell_type": "code",
   "execution_count": null,
   "metadata": {
    "collapsed": true
   },
   "outputs": [],
   "source": [
    "!ls"
   ]
  },
  {
   "cell_type": "markdown",
   "metadata": {},
   "source": [
    "# Step 3. Exploratory Data Analysis"
   ]
  },
  {
   "cell_type": "code",
   "execution_count": null,
   "metadata": {
    "collapsed": true
   },
   "outputs": [],
   "source": [
    "# Extract training data into a dataframe for further manipulation\n",
    "train = pd.read_csv('train.csv', \n",
    "                    dtype={'acoustic_data': np.int16, 'time_to_failure': np.float64})"
   ]
  },
  {
   "cell_type": "code",
   "execution_count": null,
   "metadata": {
    "collapsed": true
   },
   "outputs": [],
   "source": [
    "print(train.shape)\n",
    "train.head(10)"
   ]
  },
  {
   "cell_type": "code",
   "execution_count": null,
   "metadata": {
    "collapsed": true
   },
   "outputs": [],
   "source": [
    "train_ad_sample_df = train['acoustic_data'].values[::100]\n",
    "train_ttf_sample_df = train['time_to_failure'].values[::100]\n",
    "\n",
    "# function for plotting based on both features\n",
    "def plot_acc_ttf_data(train_ad_sample_df, train_ttf_sample_df, \n",
    "                      title):\n",
    "    fig, ax1 = plt.subplots(figsize=(12, 8))\n",
    "    plt.title(title)\n",
    "    plt.plot(train_ad_sample_df, color='r')\n",
    "    ax1.set_ylabel('acoustic_data', color='r')\n",
    "    plt.legend(['acoustic_data'], loc=(0.01, 0.95))\n",
    "    ax2 = ax1.twinx()\n",
    "    plt.plot(train_ttf_sample_df, color='b')\n",
    "    ax2.set_ylabel('time to failure', color='b')\n",
    "    plt.legend(['time to failure'], loc=(0.01, 0.9))\n",
    "    plt.grid(True)\n",
    "    \n",
    "plot_acc_ttf_data(train_ad_sample_df, train_ttf_sample_df, 'Foo')\n",
    "del train_ad_sample_df\n",
    "del train_ttf_sample_df"
   ]
  },
  {
   "cell_type": "markdown",
   "metadata": {},
   "source": [
    "# Step 4. Feature Engineering"
   ]
  },
  {
   "cell_type": "code",
   "execution_count": 2,
   "metadata": {
    "collapsed": true
   },
   "outputs": [],
   "source": [
    "def gen_features(X):\n",
    "    strain = []\n",
    "    strain.append(X.mean())\n",
    "    strain.append(X.std())\n",
    "    strain.append(X.min())\n",
    "    strain.append(X.kurtosis())\n",
    "    strain.append(X.skew())\n",
    "    strain.append(np.quantile(X, 0.01))\n",
    "    strain.append(np.quantile(X,0.05))\n",
    "    strain.append(np.quantile(X,0.95))\n",
    "    strain.append(np.quantile(X,0.99))\n",
    "    strain.append(np.abs(X).max())\n",
    "    strain.append(np.abs(X).mean())\n",
    "    strain.append(np.abs(X).std())\n",
    "    return pd.Series(strain)"
   ]
  },
  {
   "cell_type": "code",
   "execution_count": 3,
   "metadata": {
    "collapsed": true
   },
   "outputs": [],
   "source": [
    "train = pd.read_csv('train.csv', iterator=True, chunksize=150_000, \n",
    "                    dtype={'acoustic_data': np.int16, 'time_to_failure': np.float64})\n",
    "\n",
    "X_train = pd.DataFrame()\n",
    "y_train = pd.Series()\n",
    "for df in train:\n",
    "    ch = gen_features(df['acoustic_data'])\n",
    "    X_train = X_train.append(ch, ignore_index=True)\n",
    "    y_train = y_train.append(pd.Series(df['time_to_failure'].values[-1]))"
   ]
  },
  {
   "cell_type": "code",
   "execution_count": 27,
   "metadata": {},
   "outputs": [
    {
     "data": {
      "text/html": [
       "<div>\n",
       "<style scoped>\n",
       "    .dataframe tbody tr th:only-of-type {\n",
       "        vertical-align: middle;\n",
       "    }\n",
       "\n",
       "    .dataframe tbody tr th {\n",
       "        vertical-align: top;\n",
       "    }\n",
       "\n",
       "    .dataframe thead th {\n",
       "        text-align: right;\n",
       "    }\n",
       "</style>\n",
       "<table border=\"1\" class=\"dataframe\">\n",
       "  <thead>\n",
       "    <tr style=\"text-align: right;\">\n",
       "      <th></th>\n",
       "      <th>0</th>\n",
       "      <th>1</th>\n",
       "      <th>2</th>\n",
       "      <th>3</th>\n",
       "      <th>4</th>\n",
       "      <th>5</th>\n",
       "      <th>6</th>\n",
       "      <th>7</th>\n",
       "      <th>8</th>\n",
       "      <th>9</th>\n",
       "      <th>10</th>\n",
       "      <th>11</th>\n",
       "    </tr>\n",
       "  </thead>\n",
       "  <tbody>\n",
       "    <tr>\n",
       "      <th>0</th>\n",
       "      <td>4.884113</td>\n",
       "      <td>5.101106</td>\n",
       "      <td>-98.0</td>\n",
       "      <td>33.662481</td>\n",
       "      <td>-0.024061</td>\n",
       "      <td>-8.0</td>\n",
       "      <td>-2.0</td>\n",
       "      <td>11.0</td>\n",
       "      <td>18.0</td>\n",
       "      <td>104.0</td>\n",
       "      <td>5.576567</td>\n",
       "      <td>4.333325</td>\n",
       "    </tr>\n",
       "    <tr>\n",
       "      <th>1</th>\n",
       "      <td>4.725767</td>\n",
       "      <td>6.588824</td>\n",
       "      <td>-154.0</td>\n",
       "      <td>98.758517</td>\n",
       "      <td>0.390561</td>\n",
       "      <td>-11.0</td>\n",
       "      <td>-2.0</td>\n",
       "      <td>12.0</td>\n",
       "      <td>21.0</td>\n",
       "      <td>181.0</td>\n",
       "      <td>5.734167</td>\n",
       "      <td>5.732777</td>\n",
       "    </tr>\n",
       "    <tr>\n",
       "      <th>2</th>\n",
       "      <td>4.906393</td>\n",
       "      <td>6.967397</td>\n",
       "      <td>-106.0</td>\n",
       "      <td>33.555211</td>\n",
       "      <td>0.217391</td>\n",
       "      <td>-15.0</td>\n",
       "      <td>-3.0</td>\n",
       "      <td>13.0</td>\n",
       "      <td>26.0</td>\n",
       "      <td>140.0</td>\n",
       "      <td>6.152647</td>\n",
       "      <td>5.895945</td>\n",
       "    </tr>\n",
       "    <tr>\n",
       "      <th>3</th>\n",
       "      <td>4.902240</td>\n",
       "      <td>6.922305</td>\n",
       "      <td>-199.0</td>\n",
       "      <td>116.548172</td>\n",
       "      <td>0.757278</td>\n",
       "      <td>-12.0</td>\n",
       "      <td>-2.0</td>\n",
       "      <td>12.0</td>\n",
       "      <td>22.0</td>\n",
       "      <td>199.0</td>\n",
       "      <td>5.933960</td>\n",
       "      <td>6.061214</td>\n",
       "    </tr>\n",
       "    <tr>\n",
       "      <th>4</th>\n",
       "      <td>4.908720</td>\n",
       "      <td>7.301110</td>\n",
       "      <td>-126.0</td>\n",
       "      <td>52.977905</td>\n",
       "      <td>0.064531</td>\n",
       "      <td>-15.0</td>\n",
       "      <td>-2.0</td>\n",
       "      <td>12.0</td>\n",
       "      <td>26.0</td>\n",
       "      <td>145.0</td>\n",
       "      <td>6.110587</td>\n",
       "      <td>6.329485</td>\n",
       "    </tr>\n",
       "  </tbody>\n",
       "</table>\n",
       "</div>"
      ],
      "text/plain": [
       "         0         1      2           3         4     5    6     7     8   \\\n",
       "0  4.884113  5.101106  -98.0   33.662481 -0.024061  -8.0 -2.0  11.0  18.0   \n",
       "1  4.725767  6.588824 -154.0   98.758517  0.390561 -11.0 -2.0  12.0  21.0   \n",
       "2  4.906393  6.967397 -106.0   33.555211  0.217391 -15.0 -3.0  13.0  26.0   \n",
       "3  4.902240  6.922305 -199.0  116.548172  0.757278 -12.0 -2.0  12.0  22.0   \n",
       "4  4.908720  7.301110 -126.0   52.977905  0.064531 -15.0 -2.0  12.0  26.0   \n",
       "\n",
       "      9         10        11  \n",
       "0  104.0  5.576567  4.333325  \n",
       "1  181.0  5.734167  5.732777  \n",
       "2  140.0  6.152647  5.895945  \n",
       "3  199.0  5.933960  6.061214  \n",
       "4  145.0  6.110587  6.329485  "
      ]
     },
     "execution_count": 27,
     "metadata": {},
     "output_type": "execute_result"
    }
   ],
   "source": [
    "X_train.head()"
   ]
  },
  {
   "cell_type": "code",
   "execution_count": 10,
   "metadata": {},
   "outputs": [
    {
     "data": {
      "text/plain": [
       "pandas.io.parsers.TextFileReader"
      ]
     },
     "execution_count": 10,
     "metadata": {},
     "output_type": "execute_result"
    }
   ],
   "source": [
    "type(train)"
   ]
  },
  {
   "cell_type": "markdown",
   "metadata": {
    "collapsed": true
   },
   "source": [
    "# Step 5. Implement Catboost Model"
   ]
  },
  {
   "cell_type": "code",
   "execution_count": 7,
   "metadata": {},
   "outputs": [
    {
     "data": {
      "text/plain": [
       "{'learn': {'MAE': 1.4377688780913926}}"
      ]
     },
     "execution_count": 7,
     "metadata": {},
     "output_type": "execute_result"
    }
   ],
   "source": [
    "train_pool = Pool(X_train, y_train)\n",
    "model = CatBoostRegressor(iterations=30_000, loss_function='MAE', boosting_type='Ordered')\n",
    "model.fit(X_train, y_train, silent=True)\n",
    "model.best_score_"
   ]
  },
  {
   "cell_type": "code",
   "execution_count": 11,
   "metadata": {
    "collapsed": true
   },
   "outputs": [],
   "source": [
    "from tqdm import tqdm_notebook"
   ]
  },
  {
   "cell_type": "code",
   "execution_count": 44,
   "metadata": {
    "collapsed": true
   },
   "outputs": [],
   "source": [
    "submission = pd.read_csv('sample_submission.csv', index_col='seg_id', dtype={\"time_to_failure\": np.float32})\n",
    "X_test_sample = pd.DataFrame(columns=df.columns, dtype=np.float64, index=submission.index)"
   ]
  },
  {
   "cell_type": "code",
   "execution_count": 34,
   "metadata": {},
   "outputs": [
    {
     "name": "stdout",
     "output_type": "stream",
     "text": [
      "            acoustic_data  time_to_failure\n",
      "seg_id                                    \n",
      "seg_00030f            NaN              NaN\n",
      "seg_0012b5            NaN              NaN\n",
      "seg_00184e            NaN              NaN\n",
      "seg_003339            NaN              NaN\n",
      "seg_0042cc            NaN              NaN\n",
      "            acoustic_data  time_to_failure\n",
      "seg_id                                    \n",
      "seg_ff4236            NaN              NaN\n",
      "seg_ff7478            NaN              NaN\n",
      "seg_ff79d9            NaN              NaN\n",
      "seg_ffbd6a            NaN              NaN\n",
      "seg_ffe7cc            NaN              NaN\n"
     ]
    }
   ],
   "source": [
    "print(X_test.head())\n",
    "print(X_test.tail())"
   ]
  },
  {
   "cell_type": "code",
   "execution_count": 46,
   "metadata": {},
   "outputs": [
    {
     "data": {
      "application/vnd.jupyter.widget-view+json": {
       "model_id": "2edd0e13c74e46cc85f8a93313438d25"
      }
     },
     "metadata": {},
     "output_type": "display_data"
    },
    {
     "name": "stdout",
     "output_type": "stream",
     "text": [
      "0       acoustic_data    4.49178\n",
      "dtype: float64\n",
      "1       acoustic_data    4.89369\n",
      "dtype: float64\n",
      "2              acoustic_data   -75\n",
      "dtype: int64\n",
      "3     acoustic_data    28.837568\n",
      "dtype: float64\n",
      "4      acoustic_data    0.327908\n",
      "dtype: float64\n",
      "5                                            -8\n",
      "6                                            -2\n",
      "7                                            11\n",
      "8                                            18\n",
      "9             acoustic_data    115\n",
      "dtype: int64\n",
      "10     acoustic_data    5.224607\n",
      "dtype: float64\n",
      "11     acoustic_data    4.102161\n",
      "dtype: float64\n",
      "Name: seg_00030f, dtype: object\n",
      "0      acoustic_data    4.171153\n",
      "dtype: float64\n",
      "1      acoustic_data    5.922839\n",
      "dtype: float64\n",
      "2             acoustic_data   -140\n",
      "dtype: int64\n",
      "3     acoustic_data    56.218955\n",
      "dtype: float64\n",
      "4      acoustic_data    0.295708\n",
      "dtype: float64\n",
      "5                                           -12\n",
      "6                                            -2\n",
      "7                                            11\n",
      "8                                            20\n",
      "9             acoustic_data    152\n",
      "dtype: int64\n",
      "10      acoustic_data    5.19834\n",
      "dtype: float64\n",
      "11     acoustic_data    5.045369\n",
      "dtype: float64\n",
      "Name: seg_0012b5, dtype: object\n",
      "0        acoustic_data    4.61026\n",
      "dtype: float64\n",
      "1        acoustic_data    6.94699\n",
      "dtype: float64\n",
      "2              acoustic_data   -193\n",
      "dtype: int64\n",
      "3     acoustic_data    162.118284\n",
      "dtype: float64\n",
      "4       acoustic_data    0.428688\n",
      "dtype: float64\n",
      "5                                            -11\n",
      "6                                             -2\n",
      "7                                             11\n",
      "8                                             20\n",
      "9              acoustic_data    248\n",
      "dtype: int64\n",
      "10      acoustic_data    5.597193\n",
      "dtype: float64\n",
      "11      acoustic_data    6.179525\n",
      "dtype: float64\n",
      "Name: seg_00184e, dtype: object\n",
      "0      acoustic_data    4.531473\n",
      "dtype: float64\n",
      "1      acoustic_data    4.114147\n",
      "dtype: float64\n",
      "2              acoustic_data   -93\n",
      "dtype: int64\n",
      "3     acoustic_data    41.241827\n",
      "dtype: float64\n",
      "4      acoustic_data    0.061889\n",
      "dtype: float64\n",
      "5                                            -5\n",
      "6                                            -1\n",
      "7                                            10\n",
      "8                                            14\n",
      "9              acoustic_data    93\n",
      "dtype: int64\n",
      "10     acoustic_data    4.961487\n",
      "dtype: float64\n",
      "11     acoustic_data    3.583863\n",
      "dtype: float64\n",
      "Name: seg_003339, dtype: object\n",
      "0       acoustic_data    4.12834\n",
      "dtype: float64\n",
      "1      acoustic_data    5.797164\n",
      "dtype: float64\n",
      "2             acoustic_data   -147\n",
      "dtype: int64\n",
      "3     acoustic_data    79.539708\n",
      "dtype: float64\n",
      "4      acoustic_data    0.073898\n",
      "dtype: float64\n",
      "5                                           -10\n",
      "6                                            -2\n",
      "7                                            10\n",
      "8                                            19\n",
      "9             acoustic_data    177\n",
      "dtype: int64\n",
      "10       acoustic_data    5.0709\n",
      "dtype: float64\n",
      "11     acoustic_data    4.993617\n",
      "dtype: float64\n",
      "Name: seg_0042cc, dtype: object\n",
      "0       acoustic_data    4.148607\n",
      "dtype: float64\n",
      "1      acoustic_data    24.782769\n",
      "dtype: float64\n",
      "2              acoustic_data   -675\n",
      "dtype: int64\n",
      "3     acoustic_data    159.651642\n",
      "dtype: float64\n",
      "4       acoustic_data    1.016361\n",
      "dtype: float64\n",
      "5                                            -52\n",
      "6                                            -12\n",
      "7                                             20\n",
      "8                                             58\n",
      "9              acoustic_data    675\n",
      "dtype: int64\n",
      "10      acoustic_data    9.760847\n",
      "dtype: float64\n",
      "11     acoustic_data    23.154307\n",
      "dtype: float64\n",
      "Name: seg_004314, dtype: object\n",
      "0      acoustic_data    4.113987\n",
      "dtype: float64\n",
      "1       acoustic_data    4.70715\n",
      "dtype: float64\n",
      "2             acoustic_data   -107\n",
      "dtype: int64\n",
      "3     acoustic_data    57.044041\n",
      "dtype: float64\n",
      "4      acoustic_data    0.081861\n",
      "dtype: float64\n",
      "5                                            -7\n",
      "6                                            -2\n",
      "7                                            10\n",
      "8                                            15\n",
      "9             acoustic_data    125\n",
      "dtype: int64\n",
      "10     acoustic_data    4.785213\n",
      "dtype: float64\n",
      "11     acoustic_data    4.022915\n",
      "dtype: float64\n",
      "Name: seg_004cd2, dtype: object\n",
      "0      acoustic_data    4.32838\n",
      "dtype: float64\n",
      "1     acoustic_data    5.964443\n",
      "dtype: float64\n",
      "2            acoustic_data   -120\n",
      "dtype: int64\n",
      "3     acoustic_data    35.50429\n",
      "dtype: float64\n",
      "4     acoustic_data    0.161541\n",
      "dtype: float64\n",
      "5                                          -13\n",
      "6                                           -3\n",
      "7                                           12\n",
      "8                                           21\n",
      "9            acoustic_data    120\n",
      "dtype: int64\n",
      "10      acoustic_data    5.4337\n",
      "dtype: float64\n",
      "11    acoustic_data    4.978382\n",
      "dtype: float64\n",
      "Name: seg_004ee5, dtype: object\n",
      "0      acoustic_data    4.000733\n",
      "dtype: float64\n",
      "1      acoustic_data    5.874469\n",
      "dtype: float64\n",
      "2             acoustic_data   -114\n",
      "dtype: int64\n",
      "3     acoustic_data    37.260235\n",
      "dtype: float64\n",
      "4      acoustic_data   -0.007195\n",
      "dtype: float64\n",
      "5                                           -12\n",
      "6                                            -3\n",
      "7                                            11\n",
      "8                                            20\n",
      "9             acoustic_data    118\n",
      "dtype: int64\n",
      "10      acoustic_data    5.12456\n",
      "dtype: float64\n",
      "11     acoustic_data    4.924842\n",
      "dtype: float64\n",
      "Name: seg_004f1f, dtype: object\n",
      "0         acoustic_data    4.4588\n",
      "dtype: float64\n",
      "1       acoustic_data    8.926476\n",
      "dtype: float64\n",
      "2              acoustic_data   -258\n",
      "dtype: int64\n",
      "3     acoustic_data    133.899159\n",
      "dtype: float64\n",
      "4       acoustic_data   -0.123981\n",
      "dtype: float64\n",
      "5                                            -17\n",
      "6                                             -3\n",
      "7                                             12\n",
      "8                                             26\n",
      "9              acoustic_data    281\n",
      "dtype: int64\n",
      "10       acoustic_data    6.06368\n",
      "dtype: float64\n",
      "11      acoustic_data    7.924301\n",
      "dtype: float64\n",
      "Name: seg_00648a, dtype: object\n",
      "0      acoustic_data    4.393327\n",
      "dtype: float64\n",
      "1      acoustic_data    5.568479\n",
      "dtype: float64\n",
      "2              acoustic_data   -73\n",
      "dtype: int64\n",
      "3     acoustic_data    20.249209\n",
      "dtype: float64\n",
      "4      acoustic_data    0.216918\n",
      "dtype: float64\n",
      "5                                           -11\n",
      "6                                            -3\n",
      "7                                            12\n",
      "8                                            20\n",
      "9              acoustic_data    91\n",
      "dtype: int64\n",
      "10     acoustic_data    5.392647\n",
      "dtype: float64\n",
      "11     acoustic_data    4.607448\n",
      "dtype: float64\n",
      "Name: seg_006e4a, dtype: object\n",
      "0       acoustic_data    4.00766\n",
      "dtype: float64\n",
      "1      acoustic_data    6.173845\n",
      "dtype: float64\n",
      "2             acoustic_data   -104\n",
      "dtype: int64\n",
      "3     acoustic_data    35.169745\n",
      "dtype: float64\n",
      "4      acoustic_data    0.078041\n",
      "dtype: float64\n",
      "5                                           -12\n",
      "6                                            -3\n",
      "7                                            11\n",
      "8                                            21\n",
      "9             acoustic_data    110\n",
      "dtype: int64\n",
      "10     acoustic_data    5.203913\n",
      "dtype: float64\n",
      "11      acoustic_data    5.20547\n",
      "dtype: float64\n",
      "Name: seg_007a37, dtype: object\n"
     ]
    }
   ],
   "source": [
    "X_test = pd.DataFrame()\n",
    "\n",
    "for i, seg_id in enumerate(tqdm_notebook(X_test_sample.index)):\n",
    "    seg = pd.read_csv('data/' + seg_id + '.csv')\n",
    "    \n",
    "    fs = gen_features(seg)\n",
    "    fs.name = seg_id\n",
    "    X_test.append(fs)\n",
    "    \n",
    "    print(fs)\n",
    "    \n",
    "    if i > 10:\n",
    "        break\n",
    "    \n",
    "    \n"
   ]
  },
  {
   "cell_type": "code",
   "execution_count": 48,
   "metadata": {},
   "outputs": [
    {
     "data": {
      "text/plain": [
       "(0, 0)"
      ]
     },
     "execution_count": 48,
     "metadata": {},
     "output_type": "execute_result"
    }
   ],
   "source": [
    "X_test.shape"
   ]
  },
  {
   "cell_type": "code",
   "execution_count": 19,
   "metadata": {},
   "outputs": [
    {
     "ename": "AttributeError",
     "evalue": "'list' object has no attribute 'len'",
     "output_type": "error",
     "traceback": [
      "\u001b[0;31m---------------------------------------------------------------------------\u001b[0m",
      "\u001b[0;31mAttributeError\u001b[0m                            Traceback (most recent call last)",
      "\u001b[0;32m<ipython-input-19-3062e4db15b2>\u001b[0m in \u001b[0;36m<module>\u001b[0;34m()\u001b[0m\n\u001b[1;32m      4\u001b[0m \u001b[0mfiles\u001b[0m \u001b[0;34m=\u001b[0m \u001b[0;34m[\u001b[0m\u001b[0mf\u001b[0m \u001b[0;32mfor\u001b[0m \u001b[0mf\u001b[0m \u001b[0;32min\u001b[0m \u001b[0mlistdir\u001b[0m\u001b[0;34m(\u001b[0m\u001b[0;34m\"data/\"\u001b[0m\u001b[0;34m)\u001b[0m \u001b[0;32mif\u001b[0m \u001b[0misfile\u001b[0m\u001b[0;34m(\u001b[0m\u001b[0mjoin\u001b[0m\u001b[0;34m(\u001b[0m\u001b[0;34m\"data/\"\u001b[0m\u001b[0;34m,\u001b[0m \u001b[0mf\u001b[0m\u001b[0;34m)\u001b[0m\u001b[0;34m)\u001b[0m\u001b[0;34m]\u001b[0m\u001b[0;34m\u001b[0m\u001b[0;34m\u001b[0m\u001b[0m\n\u001b[1;32m      5\u001b[0m \u001b[0;34m\u001b[0m\u001b[0m\n\u001b[0;32m----> 6\u001b[0;31m \u001b[0mfiles\u001b[0m\u001b[0;34m.\u001b[0m\u001b[0mlen\u001b[0m\u001b[0;34m\u001b[0m\u001b[0;34m\u001b[0m\u001b[0m\n\u001b[0m",
      "\u001b[0;31mAttributeError\u001b[0m: 'list' object has no attribute 'len'"
     ]
    }
   ],
   "source": [
    "from os import listdir\n",
    "from os.path import isfile, join\n",
    "\n",
    "files = [f for f in listdir(\"data/\") if isfile(join(\"data/\", f))]\n",
    "\n",
    "files.len"
   ]
  },
  {
   "cell_type": "code",
   "execution_count": 24,
   "metadata": {},
   "outputs": [
    {
     "data": {
      "text/plain": [
       "2624"
      ]
     },
     "execution_count": 24,
     "metadata": {},
     "output_type": "execute_result"
    }
   ],
   "source": [
    "len(files)"
   ]
  }
 ],
 "metadata": {
  "kernelspec": {
   "display_name": "Python 3",
   "language": "python",
   "name": "python3"
  },
  "language_info": {
   "codemirror_mode": {
    "name": "ipython",
    "version": 3
   },
   "file_extension": ".py",
   "mimetype": "text/x-python",
   "name": "python",
   "nbconvert_exporter": "python",
   "pygments_lexer": "ipython3",
   "version": "3.6.7"
  }
 },
 "nbformat": 4,
 "nbformat_minor": 2
}
